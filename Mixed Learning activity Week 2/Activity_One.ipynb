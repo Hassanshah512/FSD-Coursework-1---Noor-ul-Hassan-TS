{
 "cells": [
  {
   "cell_type": "code",
   "execution_count": 4,
   "id": "89e94a1a-a7f2-46c1-acb0-08efd0fff91a",
   "metadata": {},
   "outputs": [],
   "source": [
    "myname = \"John Doe\"\n",
    "\n",
    "year = 2019\n",
    "pi = 3.14\n",
    "bool_ = True\n",
    "favorite_color = \"Blue\"\n",
    "age = 25\n",
    "average_score = 87.6\n",
    "is_student = False\n",
    "hobbies = [\"reading\", \"coding\"]\n",
    "address = {\"city\": \"New York\", \"zip\": \"10001\"}\n",
    "\n",
    "\n"
   ]
  },
  {
   "cell_type": "code",
   "execution_count": 5,
   "id": "6ddfce17-2e61-4475-beff-08cf44179bb4",
   "metadata": {},
   "outputs": [
    {
     "name": "stdout",
     "output_type": "stream",
     "text": [
      "My name is John Doe.\n",
      "The year is 2019.\n",
      "The value of pi is approximately 3.14.\n",
      "Boolean variable: True\n",
      "My favorite color is Blue, and my age is 25.\n",
      "My average score is 87.6, and I am a student: False.\n",
      "My hobbies are reading, coding.\n",
      "My address: New York, ZIP 10001.\n"
     ]
    }
   ],
   "source": [
    "print(f\"My name is {myname}.\")\n",
    "print(f\"The year is {year}.\")\n",
    "print(f\"The value of pi is approximately {pi}.\")\n",
    "print(f\"Boolean variable: {bool_}\")\n",
    "print(f\"My favorite color is {favorite_color}, and my age is {age}.\")\n",
    "print(f\"My average score is {average_score}, and I am a student: {is_student}.\")\n",
    "print(f\"My hobbies are {', '.join(hobbies)}.\")\n",
    "print(f\"My address: {address['city']}, ZIP {address['zip']}.\")"
   ]
  },
  {
   "cell_type": "code",
   "execution_count": 8,
   "id": "2e4133af-c34b-4b51-b521-4108124a1f3c",
   "metadata": {},
   "outputs": [
    {
     "name": "stdout",
     "output_type": "stream",
     "text": [
      "-1\n",
      "5\n",
      "10\n",
      "2.5\n",
      "2\n",
      "1\n"
     ]
    }
   ],
   "source": [
    "x =2; y = 3; z = 5;\n",
    "\n",
    "\n",
    "print(x-y)\n",
    "print(x+y)\n",
    "print(x*z)\n",
    "print(z/x)\n",
    "print(z//x)\n",
    "print(z%x)"
   ]
  },
  {
   "cell_type": "code",
   "execution_count": 9,
   "id": "acae7bb2-9d2f-469f-8a41-e79e3ac85caa",
   "metadata": {},
   "outputs": [
    {
     "name": "stdout",
     "output_type": "stream",
     "text": [
      "Earth's mean radius in miles: 3958.75 miles\n",
      "Altitude in meters: 12192.00 meters\n",
      "Circumference of Earth in miles: 24873.57 miles\n",
      "Result without parentheses: 14.0\n",
      "Result with parentheses: 30.0\n"
     ]
    }
   ],
   "source": [
    "\n",
    "earth_radius_km = 6371\n",
    "earth_radius_miles = earth_radius_km * 0.621371 \n",
    "\n",
    "altitude_feet = 40000\n",
    "altitude_meters = altitude_feet * 0.3048\n",
    "circumference_miles = 2 * 3.14159 * earth_radius_miles\n",
    "result_without_parentheses = 10 + 5 * 2 / 2 - 1\n",
    "result_with_parentheses = (10 + 5) * 2 / (2 - 1)\n",
    "\n",
    "print(f\"Earth's mean radius in miles: {earth_radius_miles:.2f} miles\")\n",
    "print(f\"Altitude in meters: {altitude_meters:.2f} meters\")\n",
    "print(f\"Circumference of Earth in miles: {circumference_miles:.2f} miles\")\n",
    "print(f\"Result without parentheses: {result_without_parentheses}\")\n",
    "print(f\"Result with parentheses: {result_with_parentheses}\")\n"
   ]
  },
  {
   "cell_type": "code",
   "execution_count": null,
   "id": "9f3ce4f3-1134-43e6-b12e-d19cbd69616b",
   "metadata": {},
   "outputs": [],
   "source": []
  }
 ],
 "metadata": {
  "kernelspec": {
   "display_name": "Python 3 (ipykernel)",
   "language": "python",
   "name": "python3"
  },
  "language_info": {
   "codemirror_mode": {
    "name": "ipython",
    "version": 3
   },
   "file_extension": ".py",
   "mimetype": "text/x-python",
   "name": "python",
   "nbconvert_exporter": "python",
   "pygments_lexer": "ipython3",
   "version": "3.12.7"
  }
 },
 "nbformat": 4,
 "nbformat_minor": 5
}
