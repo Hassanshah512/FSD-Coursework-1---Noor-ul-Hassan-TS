{
 "cells": [
  {
   "cell_type": "code",
   "execution_count": 1,
   "id": "5bc3c571-d579-47ae-91bf-517e9a622cc7",
   "metadata": {},
   "outputs": [
    {
     "name": "stdout",
     "output_type": "stream",
     "text": [
      "0\n",
      "1\n",
      "2\n",
      "3\n",
      "4\n",
      "5\n",
      "6\n",
      "7\n",
      "8\n",
      "9\n",
      "10\n"
     ]
    }
   ],
   "source": [
    "for i in range(11):\n",
    "    print(i)"
   ]
  },
  {
   "cell_type": "code",
   "execution_count": 2,
   "id": "c8473999-7c58-401f-8a08-903a67a24908",
   "metadata": {},
   "outputs": [
    {
     "name": "stdout",
     "output_type": "stream",
     "text": [
      "0\n",
      "2\n",
      "4\n",
      "6\n",
      "8\n",
      "10\n"
     ]
    }
   ],
   "source": [
    "for i in range(11):\n",
    "    if i % 2 == 0:\n",
    "        print(i)"
   ]
  },
  {
   "cell_type": "code",
   "execution_count": 4,
   "id": "a1416737-9fdf-4f97-a24a-e500c0f78785",
   "metadata": {},
   "outputs": [
    {
     "name": "stdin",
     "output_type": "stream",
     "text": [
      "Enter the end value for the range:  3\n"
     ]
    },
    {
     "name": "stdout",
     "output_type": "stream",
     "text": [
      "0\n",
      "1\n",
      "2\n",
      "3\n"
     ]
    }
   ],
   "source": [
    "user_end = int(input(\"Enter the end value for the range: \"))\n",
    "for i in range(user_end + 1):\n",
    "    print(i)"
   ]
  },
  {
   "cell_type": "code",
   "execution_count": 5,
   "id": "84270b7b-1b06-4d6b-b07c-8a907b8c04bf",
   "metadata": {},
   "outputs": [
    {
     "name": "stdin",
     "output_type": "stream",
     "text": [
      "Enter the start value for the range:  1\n",
      "Enter the end value for the range:  10\n",
      "Enter the step value for the range:  2\n"
     ]
    },
    {
     "name": "stdout",
     "output_type": "stream",
     "text": [
      "1\n",
      "3\n",
      "5\n",
      "7\n",
      "9\n"
     ]
    }
   ],
   "source": [
    "user_start = int(input(\"Enter the start value for the range: \"))\n",
    "user_end = int(input(\"Enter the end value for the range: \"))\n",
    "user_step = int(input(\"Enter the step value for the range: \"))\n",
    "for i in range(user_start, user_end + 1, user_step):\n",
    "    print(i)"
   ]
  },
  {
   "cell_type": "code",
   "execution_count": 6,
   "id": "406a4286-efd6-4ae3-9b97-355ca870a5e5",
   "metadata": {},
   "outputs": [
    {
     "name": "stdout",
     "output_type": "stream",
     "text": [
      "0\n",
      "1\n",
      "2\n",
      "3\n",
      "4\n",
      "5\n",
      "6\n",
      "7\n",
      "8\n",
      "9\n",
      "10\n",
      "11\n",
      "12\n",
      "13\n",
      "14\n",
      "15\n",
      "16\n",
      "17\n"
     ]
    }
   ],
   "source": [
    "count = 0\n",
    "while count <= 17:\n",
    "    print(count)\n",
    "    count += 1\n"
   ]
  },
  {
   "cell_type": "code",
   "execution_count": 7,
   "id": "3bc8e12d-5ed0-4ab1-abc2-4c6d88c22a14",
   "metadata": {},
   "outputs": [
    {
     "name": "stdout",
     "output_type": "stream",
     "text": [
      "1\n",
      "3\n",
      "5\n",
      "7\n",
      "9\n",
      "11\n",
      "13\n",
      "15\n",
      "17\n",
      "19\n",
      "21\n",
      "23\n",
      "25\n",
      "27\n"
     ]
    }
   ],
   "source": [
    "\n",
    "count = 1\n",
    "while count <= 28:\n",
    "    if count % 2 != 0:\n",
    "        print(count)\n",
    "    count += 1\n"
   ]
  },
  {
   "cell_type": "code",
   "execution_count": 8,
   "id": "f80dca23-7a1f-4004-bffd-04afa4c6abaf",
   "metadata": {},
   "outputs": [
    {
     "name": "stdin",
     "output_type": "stream",
     "text": [
      "Enter a number to define the upper limit of the loop:  12\n"
     ]
    },
    {
     "name": "stdout",
     "output_type": "stream",
     "text": [
      "0\n",
      "1\n",
      "2\n",
      "3\n",
      "4\n",
      "5\n",
      "6\n",
      "7\n",
      "8\n",
      "9\n",
      "10\n",
      "11\n",
      "12\n"
     ]
    }
   ],
   "source": [
    "\n",
    "user_input = int(input(\"Enter a number to define the upper limit of the loop: \"))\n",
    "count = 0\n",
    "while count <= user_input:\n",
    "    print(count)\n",
    "    count += 1\n"
   ]
  },
  {
   "cell_type": "code",
   "execution_count": 11,
   "id": "48042f0c-799a-4c9f-9baf-954d188a9c91",
   "metadata": {},
   "outputs": [
    {
     "name": "stdout",
     "output_type": "stream",
     "text": [
      "0\n",
      "1\n",
      "2\n",
      "3\n",
      "4\n",
      "5\n",
      "6\n",
      "7\n",
      "8\n",
      "9\n",
      "1\n",
      "3\n",
      "5\n",
      "7\n",
      "9\n",
      "11\n",
      "13\n",
      "15\n",
      "17\n"
     ]
    },
    {
     "name": "stdin",
     "output_type": "stream",
     "text": [
      "Enter a number to define the upper limit of the loop:  10\n"
     ]
    },
    {
     "name": "stdout",
     "output_type": "stream",
     "text": [
      "0\n",
      "1\n",
      "2\n",
      "3\n",
      "4\n"
     ]
    }
   ],
   "source": [
    "for i in range(16):\n",
    "    if i == 10:\n",
    "        break\n",
    "    print(i)\n",
    "\n",
    "for i in range(19):\n",
    "    if i % 2 != 0:\n",
    "        if i == 12:\n",
    "            break\n",
    "        print(i)\n",
    "\n",
    "user_input = int(input(\"Enter a number to define the upper limit of the loop: \"))\n",
    "for i in range(user_input + 1):\n",
    "    if i == user_input // 2:\n",
    "        break\n",
    "    print(i)\n"
   ]
  },
  {
   "cell_type": "code",
   "execution_count": 12,
   "id": "1beb005e-1409-4712-aff1-feb99978bc30",
   "metadata": {},
   "outputs": [
    {
     "name": "stdout",
     "output_type": "stream",
     "text": [
      "0\n",
      "2\n",
      "4\n",
      "6\n",
      "8\n",
      "0\n",
      "2\n",
      "4\n",
      "6\n",
      "8\n",
      "10\n",
      "12\n",
      "14\n",
      "16\n"
     ]
    }
   ],
   "source": [
    "count = 0\n",
    "while count <= 9:\n",
    "    if count % 2 != 0:\n",
    "        count += 1\n",
    "        continue\n",
    "    print(count)\n",
    "    count += 1\n",
    "\n",
    "count = 0\n",
    "while count <= 16:\n",
    "    if count % 2 != 0:\n",
    "        count += 1\n",
    "        continue\n",
    "    print(count)\n",
    "    count += 1\n"
   ]
  },
  {
   "cell_type": "code",
   "execution_count": 14,
   "id": "9d0c8e95-8670-4662-b726-3b99068c012b",
   "metadata": {},
   "outputs": [
    {
     "name": "stdout",
     "output_type": "stream",
     "text": [
      "2.0\n",
      "15\n",
      "Solutions: 2.0, 1.0\n"
     ]
    }
   ],
   "source": [
    "import math\n",
    "\n",
    "def average_of_three(a, b, c):\n",
    "    print((a + b + c) / 3)\n",
    "\n",
    "def sum_of_five(a, b, c, d, e):\n",
    "    print(a + b + c + d + e)\n",
    "\n",
    "def solve_quadratic(a, b, c):\n",
    "    discriminant = b**2 - 4*a*c\n",
    "    if discriminant >= 0:\n",
    "        root1 = (-b + math.sqrt(discriminant)) / (2 * a)\n",
    "        root2 = (-b - math.sqrt(discriminant)) / (2 * a)\n",
    "        print(f\"Solutions: {root1}, {root2}\")\n",
    "    else:\n",
    "        print(\"No real solutions\")\n",
    "\n",
    "\n",
    "average_of_three(1, 2, 3)\n",
    "sum_of_five(1, 2, 3, 4, 5)\n",
    "solve_quadratic(1, -3, 2)\n"
   ]
  },
  {
   "cell_type": "code",
   "execution_count": 15,
   "id": "523d76a2-7530-4ed6-9e07-e316567bbcf7",
   "metadata": {},
   "outputs": [
    {
     "name": "stdin",
     "output_type": "stream",
     "text": [
      "Enter your name:  Noor ul Hassan\n",
      "Enter your year of birth (YYYY):  2000\n"
     ]
    },
    {
     "name": "stdout",
     "output_type": "stream",
     "text": [
      "Hello Noor ul Hassan, you are 24 years old!\n"
     ]
    }
   ],
   "source": [
    "from datetime import datetime\n",
    "name = input(\"Enter your name: \")\n",
    "dob = int(input(\"Enter your year of birth (YYYY): \"))\n",
    "current_year = datetime.now().year\n",
    "age = current_year - dob\n",
    "print(f\"Hello {name}, you are {age} years old!\")\n"
   ]
  },
  {
   "cell_type": "code",
   "execution_count": 16,
   "id": "9c6194d3-7953-488e-ada3-858564901c58",
   "metadata": {},
   "outputs": [
    {
     "name": "stdin",
     "output_type": "stream",
     "text": [
      "Enter the base of the triangle:  10\n",
      "Enter the height of the triangle:  11\n"
     ]
    },
    {
     "name": "stdout",
     "output_type": "stream",
     "text": [
      "The area of the triangle is: 55.0\n"
     ]
    },
    {
     "name": "stdin",
     "output_type": "stream",
     "text": [
      "Enter the radius of the circle:  5\n"
     ]
    },
    {
     "name": "stdout",
     "output_type": "stream",
     "text": [
      "The area of the circle is: 78.53981633974483\n"
     ]
    },
    {
     "name": "stdin",
     "output_type": "stream",
     "text": [
      "Enter the radius of the cylinder:  6\n",
      "Enter the height of the cylinder:  7\n"
     ]
    },
    {
     "name": "stdout",
     "output_type": "stream",
     "text": [
      "The volume of the cylinder is: 791.6813487046279\n",
      "The circumference of the Earth is approximately: 40030.173592041145 km\n"
     ]
    }
   ],
   "source": [
    "import math\n",
    "\n",
    "def area_of_triangle():\n",
    "    base = float(input(\"Enter the base of the triangle: \"))\n",
    "    height = float(input(\"Enter the height of the triangle: \"))\n",
    "    area = 0.5 * base * height\n",
    "    print(f\"The area of the triangle is: {area}\")\n",
    "\n",
    "def area_of_circle():\n",
    "    radius = float(input(\"Enter the radius of the circle: \"))\n",
    "    area = math.pi * radius**2\n",
    "    print(f\"The area of the circle is: {area}\")\n",
    "\n",
    "def volume_of_cylinder():\n",
    "    radius = float(input(\"Enter the radius of the cylinder: \"))\n",
    "    height = float(input(\"Enter the height of the cylinder: \"))\n",
    "    volume = math.pi * radius**2 * height\n",
    "    print(f\"The volume of the cylinder is: {volume}\")\n",
    "\n",
    "def circumference_of_earth():\n",
    "    earth_mean_radius_km = 6371  # in kilometers\n",
    "    circumference = 2 * math.pi * earth_mean_radius_km\n",
    "    print(f\"The circumference of the Earth is approximately: {circumference} km\")\n",
    "\n",
    "area_of_triangle()\n",
    "area_of_circle()\n",
    "volume_of_cylinder()\n",
    "circumference_of_earth()\n"
   ]
  },
  {
   "cell_type": "code",
   "execution_count": null,
   "id": "def59348-dfe9-4b46-a33e-98f1706f64dc",
   "metadata": {},
   "outputs": [],
   "source": []
  }
 ],
 "metadata": {
  "kernelspec": {
   "display_name": "Python 3 (ipykernel)",
   "language": "python",
   "name": "python3"
  },
  "language_info": {
   "codemirror_mode": {
    "name": "ipython",
    "version": 3
   },
   "file_extension": ".py",
   "mimetype": "text/x-python",
   "name": "python",
   "nbconvert_exporter": "python",
   "pygments_lexer": "ipython3",
   "version": "3.12.7"
  }
 },
 "nbformat": 4,
 "nbformat_minor": 5
}
